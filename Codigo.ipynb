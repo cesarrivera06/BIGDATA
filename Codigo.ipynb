{
 "cells": [
  {
   "cell_type": "code",
   "execution_count": null,
   "id": "2d1bcce2-4a85-40e1-a1b7-94a114f4613f",
   "metadata": {},
   "outputs": [],
   "source": [
    "from pyspark.sql import SparkSession, functions as F\n",
    "\n",
    "# Crear sesión de Spark\n",
    "spark = SparkSession.builder.appName('BatchProcessing').getOrCreate()\n",
    "\n",
    "# Ruta del archivo en HDFS\n",
    "file_path = 'hdfs://192.168.1.10:9000/Tarea3/rows.csv'\n",
    "\n",
    "# Cargar los datos desde HDFS\n",
    "df = spark.read.format('csv').option('header', 'true').option('inferSchema', 'true').load(file_path)\n",
    "\n",
    "# Verificar el esquema\n",
    "df.printSchema()\n"
   ]
  },
  {
   "cell_type": "code",
   "execution_count": null,
   "id": "72e76517-4288-41ff-9861-131269d48c68",
   "metadata": {},
   "outputs": [],
   "source": [
    "# Eliminar duplicados\n",
    "df_cleaned = df.dropDuplicates()\n",
    "\n",
    "# Manejo de valores nulos\n",
    "df_cleaned = df_cleaned.fillna({'VALOR': 0})\n",
    "\n",
    "# Convertir columnas de fecha al formato correcto (si es necesario)\n",
    "df_cleaned = df_cleaned.withColumn(\"VIGENCIADESDE\", F.to_date(F.col(\"VIGENCIADESDE\"), \"yyyy-MM-dd\")) \\\n",
    "                       .withColumn(\"VIGENCIAHASTA\", F.to_date(F.col(\"VIGENCIAHASTA\"), \"yyyy-MM-dd\"))\n",
    "\n",
    "# Mostrar primeras filas del DataFrame limpio\n",
    "df_cleaned.show()\n"
   ]
  },
  {
   "cell_type": "code",
   "execution_count": null,
   "id": "52df911c-8435-40d5-b8c6-8060314afc0a",
   "metadata": {},
   "outputs": [],
   "source": [
    "# Resumen estadístico\n",
    "df_cleaned.describe().show()\n",
    "\n",
    "# Contar registros por categoría (ejemplo)\n",
    "df_cleaned.groupBy(\"categoria\").count().show()\n",
    "\n",
    "# Filtrar y ordenar por valor\n",
    "top_values = df_cleaned.filter(F.col(\"VALOR\") > 5000).sort(F.desc(\"VALOR\"))\n",
    "top_values.show()\n"
   ]
  },
  {
   "cell_type": "code",
   "execution_count": null,
   "id": "2c2f6ab9-84a0-4b41-a738-8d88a3ecb546",
   "metadata": {},
   "outputs": [],
   "source": [
    "output_path = 'hdfs://192.168.1.10:9000/Tarea3/processed_data'\n",
    "df_cleaned.write.mode('overwrite').parquet(output_path)\n"
   ]
  },
  {
   "cell_type": "code",
   "execution_count": null,
   "id": "53412ba4-a5c7-4868-a311-a59bdb315f58",
   "metadata": {},
   "outputs": [],
   "source": []
  },
  {
   "cell_type": "code",
   "execution_count": null,
   "id": "0de9248d-4b82-4674-913b-7a23b34ae9c4",
   "metadata": {},
   "outputs": [],
   "source": []
  },
  {
   "cell_type": "code",
   "execution_count": null,
   "id": "d112c1ca-926b-4728-921f-9e06c50106ea",
   "metadata": {},
   "outputs": [],
   "source": []
  }
 ],
 "metadata": {
  "kernelspec": {
   "display_name": "Python 3 (ipykernel)",
   "language": "python",
   "name": "python3"
  },
  "language_info": {
   "codemirror_mode": {
    "name": "ipython",
    "version": 3
   },
   "file_extension": ".py",
   "mimetype": "text/x-python",
   "name": "python",
   "nbconvert_exporter": "python",
   "pygments_lexer": "ipython3",
   "version": "3.12.4"
  }
 },
 "nbformat": 4,
 "nbformat_minor": 5
}
